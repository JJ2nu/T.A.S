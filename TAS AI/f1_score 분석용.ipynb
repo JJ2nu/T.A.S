{
 "cells": [
  {
   "cell_type": "code",
   "execution_count": 1,
   "metadata": {},
   "outputs": [],
   "source": [
    "from gensim import models\n",
    "from gensim.models import FastText\n",
    "from keras.preprocessing.text import Tokenizer\n",
    "from keras.preprocessing.sequence import pad_sequences\n",
    "from keras.models import load_model\n",
    "from konlpy.tag import Okt"
   ]
  },
  {
   "cell_type": "code",
   "execution_count": 2,
   "metadata": {},
   "outputs": [],
   "source": [
    "from keras import backend as K\n",
    "\n",
    "def recall(y_target, y_pred):\n",
    "    # clip(t, clip_value_min, clip_value_max) : clip_value_min~clip_value_max 이외 가장자리를 깎아 낸다\n",
    "    # round : 반올림한다\n",
    "    y_target_yn = K.round(K.clip(y_target, 0, 1)) # 실제값을 0(Negative) 또는 1(Positive)로 설정한다\n",
    "    y_pred_yn = K.round(K.clip(y_pred, 0, 1)) # 예측값을 0(Negative) 또는 1(Positive)로 설정한다\n",
    "    # True Positive는 실제 값과 예측 값이 모두 1(Positive)인 경우이다\n",
    "    count_true_positive = K.sum(y_target_yn * y_pred_yn) \n",
    "    # (True Positive + False Negative) = 실제 값이 1(Positive) 전체\n",
    "    count_true_positive_false_negative = K.sum(y_target_yn)\n",
    "    # Recall =  (True Positive) / (True Positive + False Negative)\n",
    "    # K.epsilon()는 'divide by zero error' 예방차원에서 작은 수를 더한다\n",
    "    recall = count_true_positive / (count_true_positive_false_negative + K.epsilon())\n",
    "    # return a single tensor value\n",
    "    return recall\n",
    "\n",
    "\n",
    "def precision(y_target, y_pred):\n",
    "    # clip(t, clip_value_min, clip_value_max) : clip_value_min~clip_value_max 이외 가장자리를 깎아 낸다\n",
    "    # round : 반올림한다\n",
    "    y_pred_yn = K.round(K.clip(y_pred, 0, 1)) # 예측값을 0(Negative) 또는 1(Positive)로 설정한다\n",
    "    y_target_yn = K.round(K.clip(y_target, 0, 1)) # 실제값을 0(Negative) 또는 1(Positive)로 설정한다\n",
    "    # True Positive는 실제 값과 예측 값이 모두 1(Positive)인 경우이다\n",
    "    count_true_positive = K.sum(y_target_yn * y_pred_yn) \n",
    "    # (True Positive + False Positive) = 예측 값이 1(Positive) 전체\n",
    "    count_true_positive_false_positive = K.sum(y_pred_yn)\n",
    "    # Precision = (True Positive) / (True Positive + False Positive)\n",
    "    # K.epsilon()는 'divide by zero error' 예방차원에서 작은 수를 더한다\n",
    "    precision = count_true_positive / (count_true_positive_false_positive + K.epsilon())\n",
    "    # return a single tensor value\n",
    "    return precision\n",
    "\n",
    "def f1score(y_target, y_pred):\n",
    "    _recall = recall(y_target, y_pred)\n",
    "    _precision = precision(y_target, y_pred)\n",
    "    # K.epsilon()는 'divide by zero error' 예방차원에서 작은 수를 더한다\n",
    "    _f1score = ( 2 * _recall * _precision) / (_recall + _precision+ K.epsilon())\n",
    "    # return a single tensor value\n",
    "    return _f1score"
   ]
  },
  {
   "cell_type": "code",
   "execution_count": 3,
   "metadata": {},
   "outputs": [],
   "source": [
    "f1 = open(\"800_text.txt\", 'r', encoding='utf-8')\n",
    "f2 = open(\"800_label.txt\", 'r', encoding='utf-8')\n",
    "\n",
    "examples = []\n",
    "labels = []\n",
    "\n",
    "while True:\n",
    "    textline = f1.readline()\n",
    "    labelline = f2.readline()\n",
    "    if not textline: break\n",
    "    examples.append(textline[:-1])\n",
    "    labels.append(int(labelline[:-1]))\n",
    "\n",
    "f1.close()\n",
    "f2.close()"
   ]
  },
  {
   "cell_type": "code",
   "execution_count": 4,
   "metadata": {},
   "outputs": [],
   "source": [
    "okt = Okt()\n",
    "ex_morpheme = []\n",
    "for text in examples:\n",
    "    union = \"\"\n",
    "    for word_tag in okt.pos(text, norm=True, stem=True):\n",
    "        if word_tag[1] in ['Noun', 'Verb', 'VerbPrefix', 'Adjective', 'Determiner', 'Adverb', 'Exclamation', 'KoreanParticle']:\n",
    "            union += word_tag[0]\n",
    "            union += \" \"\n",
    "    ex_morpheme.append(union)\n",
    "\n",
    "maxlen = 500\n",
    "max_words = 2000001\n",
    "tokenizer = Tokenizer(num_words=max_words)\n",
    "\n",
    "import json\n",
    "with open('model\\wordIndex_abusive.json') as json_file:\n",
    "    word_index = json.load(json_file)\n",
    "    tokenizer.word_index = word_index\n",
    "    \n",
    "tokenizer.fit_on_texts(word_index)\n",
    "sequences = tokenizer.texts_to_sequences(ex_morpheme)\n",
    "x_test = pad_sequences(sequences, maxlen=maxlen)"
   ]
  },
  {
   "cell_type": "code",
   "execution_count": 5,
   "metadata": {},
   "outputs": [],
   "source": [
    "model = load_model('model\\cnn-lstm\\model_abusive_cl.h5', custom_objects = {\"precision\": precision, \"recall\" : recall, \"f1score\" : f1score})\n",
    "value_predicted = model.predict(x_test)\n",
    "\n",
    "# 욕설 라벨링 저장용\n",
    "labels_c1 = []\n",
    "for i in range(0, len(x_test)):\n",
    "    labels_c1.extend([round(value_predicted[i][0] * 100, 1)])\n"
   ]
  },
  {
   "cell_type": "code",
   "execution_count": 6,
   "metadata": {
    "scrolled": false
   },
   "outputs": [],
   "source": [
    "f3 = open(\"test_text123.txt\", 'w', encoding='utf-8')\n",
    "for i in range(0, len(x_test)):\n",
    "    input_text = examples[i] + \" | \" + str(labels[i]) + \" | \" + str(labels_c1[i]) + \"\\n\"\n",
    "    f3.write(input_text)\n",
    "\n",
    "f3.close()\n"
   ]
  },
  {
   "cell_type": "code",
   "execution_count": 7,
   "metadata": {},
   "outputs": [],
   "source": [
    "f4 = open(\"test_false_positive.txt\", 'w', encoding='utf-8')\n",
    "f5 = open(\"test_false_negative.txt\", 'w', encoding='utf-8')\n",
    "for i in range(0, len(x_test)):\n",
    "    input_text = examples[i] + \" | \" + str(labels[i]) + \" | \" + str(labels_c1[i]) + \"\\n\"\n",
    "    if(labels[i]==0 and labels_c1[i] >= 50):\n",
    "        f4.write(input_text)\n",
    "    elif(labels[i]==1 and labels_c1[i] < 50):\n",
    "        f5.write(input_text)\n",
    "\n",
    "f4.close()\n",
    "f5.close()"
   ]
  },
  {
   "cell_type": "code",
   "execution_count": null,
   "metadata": {},
   "outputs": [],
   "source": []
  }
 ],
 "metadata": {
  "kernelspec": {
   "display_name": "Python 3",
   "language": "python",
   "name": "python3"
  },
  "language_info": {
   "codemirror_mode": {
    "name": "ipython",
    "version": 3
   },
   "file_extension": ".py",
   "mimetype": "text/x-python",
   "name": "python",
   "nbconvert_exporter": "python",
   "pygments_lexer": "ipython3",
   "version": "3.6.10"
  }
 },
 "nbformat": 4,
 "nbformat_minor": 4
}
